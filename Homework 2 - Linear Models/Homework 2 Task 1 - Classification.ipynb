{
 "cells": [
  {
   "cell_type": "markdown",
   "metadata": {},
   "source": [
    "# Homework 2: Classification"
   ]
  },
  {
   "cell_type": "markdown",
   "metadata": {},
   "source": [
    "## Task 1: Classification on the ‘credit-g’ dataset"
   ]
  },
  {
   "cell_type": "markdown",
   "metadata": {},
   "source": [
    "You can download the dataset with ‘fetch_openml(‘credit_g’)’ and see it’s description at\n",
    "https://www.openml.org/d/31\n",
    "    \n",
    "1.1 Determine which features are continuous and which are categorical.\n",
    "\n",
    "1.2 Visualize the univariate distribution of each continuous feature, and the distribution of the\n",
    "target.\n",
    "\n",
    "1.3 Split data into training and test set. Do not use the test set until a final evaluation in 1.5.\n",
    "Preprocess the data (such as treatment of categorical variables) without using a pipeline and\n",
    "evaluate an initial LogisticRegression model with an training/validation split.\n",
    "\n",
    "1.4 Use ColumnTransformer and pipeline to encode categorical variables (your choice of\n",
    "OneHotEncoder or another one from the categorical_encoder package, or both). Evaluate\n",
    "Logistic Regression, linear support vector machines and nearest neighbors using\n",
    "cross-validation. How different are the results? How does scaling the continuous features with\n",
    "StandardScaler influence the results?\n",
    "\n",
    "1.5 Tune the parameters using GridSearchCV. Do the results improve? Evaluate only the be\n",
    "model on the test set.\n",
    "Visualize the performance as function of the parameters for all three models.\n",
    "\n",
    "1.6 Change the cross-validation strategy from ‘stratified k-fold’ to ‘kfold’ with shuffling. Do the\n",
    "parameters that are found change? Do they change if you change the random seed of the\n",
    "shuffling? Or if you change the random state of the split into training and test data?\n",
    "\n",
    "1.7 Visualize the 20 most important coefficients for LogisticRegression and Linear Support\n",
    "Vector Machines using hyper-parameters that performed well in the grid-search."
   ]
  },
  {
   "cell_type": "markdown",
   "metadata": {},
   "source": [
    "## Import Libraries"
   ]
  },
  {
   "cell_type": "code",
   "execution_count": 1,
   "metadata": {},
   "outputs": [],
   "source": [
    "import pandas as pd\n",
    "import numpy as np\n",
    "import matplotlib.pyplot as plt\n",
    "\n",
    "from sklearn.datasets import fetch_openml\n",
    "\n",
    "from sklearn.model_selection import train_test_split, cross_val_score, GridSearchCV, KFold\n",
    "from sklearn.preprocessing import OneHotEncoder, StandardScaler\n",
    "from sklearn.compose import make_column_transformer, ColumnTransformer\n",
    "from sklearn.pipeline import make_pipeline, Pipeline\n",
    "\n",
    "from sklearn.linear_model import LogisticRegression\n",
    "from sklearn.neighbors import KNeighborsClassifier\n",
    "from sklearn.svm import LinearSVC"
   ]
  },
  {
   "cell_type": "code",
   "execution_count": 2,
   "metadata": {},
   "outputs": [],
   "source": [
    "import warnings\n",
    "warnings.filterwarnings('ignore')"
   ]
  },
  {
   "cell_type": "code",
   "execution_count": 3,
   "metadata": {},
   "outputs": [],
   "source": [
    "data = fetch_openml(\"credit-g\", version = \"active\")"
   ]
  },
  {
   "cell_type": "markdown",
   "metadata": {},
   "source": [
    "Let's explore the data:"
   ]
  },
  {
   "cell_type": "code",
   "execution_count": 4,
   "metadata": {},
   "outputs": [
    {
     "data": {
      "text/plain": [
       "{'data': array([[ 0.,  6.,  4., ...,  1.,  1.,  0.],\n",
       "        [ 1., 48.,  2., ...,  1.,  0.,  0.],\n",
       "        [ 3., 12.,  4., ...,  2.,  0.,  0.],\n",
       "        ...,\n",
       "        [ 3., 12.,  2., ...,  1.,  0.,  0.],\n",
       "        [ 0., 45.,  2., ...,  1.,  1.,  0.],\n",
       "        [ 1., 45.,  4., ...,  1.,  0.,  0.]]),\n",
       " 'target': array(['good', 'bad', 'good', 'good', 'bad', 'good', 'good', 'good',\n",
       "        'good', 'bad', 'bad', 'bad', 'good', 'bad', 'good', 'bad', 'good',\n",
       "        'good', 'bad', 'good', 'good', 'good', 'good', 'good', 'good',\n",
       "        'good', 'good', 'good', 'good', 'bad', 'good', 'good', 'good',\n",
       "        'good', 'good', 'bad', 'good', 'bad', 'good', 'good', 'good',\n",
       "        'good', 'good', 'good', 'bad', 'good', 'good', 'good', 'good',\n",
       "        'good', 'good', 'good', 'good', 'good', 'bad', 'good', 'bad',\n",
       "        'good', 'good', 'bad', 'good', 'good', 'bad', 'bad', 'good',\n",
       "        'good', 'good', 'good', 'bad', 'good', 'good', 'good', 'good',\n",
       "        'good', 'bad', 'good', 'bad', 'good', 'good', 'good', 'bad',\n",
       "        'good', 'good', 'good', 'good', 'good', 'good', 'bad', 'good',\n",
       "        'bad', 'good', 'good', 'bad', 'good', 'good', 'bad', 'good',\n",
       "        'good', 'good', 'good', 'good', 'good', 'good', 'good', 'good',\n",
       "        'bad', 'bad', 'good', 'good', 'good', 'good', 'good', 'good',\n",
       "        'bad', 'good', 'good', 'bad', 'good', 'bad', 'good', 'bad', 'good',\n",
       "        'good', 'good', 'bad', 'good', 'good', 'bad', 'good', 'bad',\n",
       "        'good', 'bad', 'good', 'good', 'good', 'good', 'good', 'bad',\n",
       "        'good', 'good', 'good', 'good', 'good', 'bad', 'good', 'good',\n",
       "        'good', 'good', 'good', 'good', 'good', 'good', 'good', 'good',\n",
       "        'good', 'bad', 'good', 'good', 'good', 'good', 'good', 'good',\n",
       "        'good', 'good', 'good', 'good', 'bad', 'good', 'good', 'bad',\n",
       "        'bad', 'good', 'bad', 'good', 'bad', 'bad', 'good', 'good', 'good',\n",
       "        'good', 'bad', 'bad', 'bad', 'good', 'bad', 'good', 'bad', 'good',\n",
       "        'bad', 'good', 'bad', 'bad', 'bad', 'good', 'bad', 'bad', 'good',\n",
       "        'bad', 'good', 'bad', 'good', 'good', 'good', 'bad', 'good',\n",
       "        'good', 'good', 'good', 'good', 'good', 'good', 'good', 'bad',\n",
       "        'bad', 'good', 'good', 'good', 'good', 'good', 'good', 'good',\n",
       "        'good', 'good', 'good', 'good', 'good', 'bad', 'bad', 'bad',\n",
       "        'good', 'bad', 'good', 'good', 'good', 'good', 'bad', 'bad', 'bad',\n",
       "        'good', 'good', 'bad', 'good', 'bad', 'good', 'good', 'good',\n",
       "        'good', 'good', 'good', 'bad', 'good', 'good', 'bad', 'good',\n",
       "        'good', 'good', 'good', 'bad', 'good', 'good', 'good', 'good',\n",
       "        'good', 'good', 'good', 'bad', 'good', 'good', 'bad', 'good',\n",
       "        'good', 'good', 'good', 'bad', 'bad', 'good', 'good', 'good',\n",
       "        'bad', 'good', 'good', 'good', 'good', 'good', 'good', 'good',\n",
       "        'good', 'good', 'good', 'bad', 'good', 'bad', 'good', 'good',\n",
       "        'good', 'bad', 'good', 'good', 'good', 'good', 'good', 'bad',\n",
       "        'bad', 'good', 'bad', 'good', 'good', 'bad', 'bad', 'good', 'good',\n",
       "        'good', 'good', 'bad', 'good', 'bad', 'good', 'good', 'good',\n",
       "        'good', 'bad', 'bad', 'good', 'good', 'good', 'good', 'good',\n",
       "        'good', 'good', 'good', 'good', 'bad', 'bad', 'bad', 'bad', 'bad',\n",
       "        'good', 'bad', 'good', 'good', 'good', 'good', 'good', 'good',\n",
       "        'good', 'good', 'good', 'good', 'good', 'bad', 'good', 'bad',\n",
       "        'good', 'bad', 'good', 'bad', 'good', 'bad', 'good', 'bad', 'good',\n",
       "        'good', 'good', 'good', 'bad', 'good', 'good', 'good', 'bad',\n",
       "        'good', 'good', 'good', 'good', 'good', 'bad', 'bad', 'good',\n",
       "        'good', 'bad', 'good', 'good', 'bad', 'good', 'good', 'good',\n",
       "        'good', 'good', 'good', 'good', 'good', 'good', 'good', 'good',\n",
       "        'good', 'good', 'good', 'good', 'good', 'bad', 'good', 'good',\n",
       "        'good', 'bad', 'good', 'good', 'bad', 'good', 'good', 'good',\n",
       "        'bad', 'good', 'good', 'bad', 'good', 'bad', 'good', 'bad', 'good',\n",
       "        'good', 'bad', 'good', 'good', 'good', 'good', 'bad', 'good',\n",
       "        'good', 'good', 'good', 'bad', 'good', 'bad', 'good', 'good',\n",
       "        'good', 'bad', 'good', 'good', 'good', 'bad', 'good', 'good',\n",
       "        'good', 'bad', 'bad', 'good', 'bad', 'good', 'good', 'bad', 'good',\n",
       "        'good', 'good', 'good', 'bad', 'good', 'good', 'bad', 'good',\n",
       "        'good', 'good', 'good', 'good', 'good', 'good', 'good', 'bad',\n",
       "        'good', 'good', 'good', 'bad', 'bad', 'bad', 'good', 'bad', 'bad',\n",
       "        'good', 'good', 'good', 'good', 'good', 'good', 'good', 'good',\n",
       "        'good', 'bad', 'good', 'good', 'good', 'good', 'good', 'bad',\n",
       "        'good', 'good', 'good', 'bad', 'bad', 'good', 'good', 'good',\n",
       "        'bad', 'good', 'good', 'bad', 'bad', 'bad', 'good', 'bad', 'good',\n",
       "        'good', 'bad', 'good', 'good', 'good', 'good', 'good', 'good',\n",
       "        'bad', 'good', 'good', 'good', 'bad', 'bad', 'good', 'good',\n",
       "        'good', 'good', 'good', 'bad', 'good', 'good', 'bad', 'good',\n",
       "        'good', 'good', 'bad', 'good', 'good', 'bad', 'good', 'bad',\n",
       "        'good', 'bad', 'bad', 'good', 'bad', 'good', 'good', 'bad', 'good',\n",
       "        'good', 'good', 'bad', 'good', 'good', 'bad', 'bad', 'bad', 'bad',\n",
       "        'bad', 'good', 'bad', 'good', 'bad', 'good', 'good', 'bad', 'good',\n",
       "        'good', 'bad', 'bad', 'good', 'good', 'good', 'good', 'good',\n",
       "        'good', 'good', 'bad', 'good', 'bad', 'good', 'good', 'bad',\n",
       "        'good', 'bad', 'good', 'good', 'bad', 'bad', 'good', 'good',\n",
       "        'good', 'bad', 'bad', 'bad', 'bad', 'bad', 'bad', 'good', 'good',\n",
       "        'bad', 'bad', 'bad', 'good', 'good', 'good', 'bad', 'good', 'good',\n",
       "        'bad', 'bad', 'good', 'good', 'bad', 'good', 'good', 'good', 'bad',\n",
       "        'good', 'good', 'bad', 'bad', 'good', 'bad', 'good', 'good', 'bad',\n",
       "        'good', 'good', 'good', 'bad', 'good', 'bad', 'bad', 'good',\n",
       "        'good', 'good', 'good', 'bad', 'bad', 'good', 'bad', 'good',\n",
       "        'good', 'bad', 'good', 'bad', 'bad', 'bad', 'good', 'bad', 'bad',\n",
       "        'bad', 'good', 'good', 'bad', 'good', 'good', 'good', 'good',\n",
       "        'bad', 'good', 'good', 'good', 'good', 'good', 'good', 'bad',\n",
       "        'good', 'good', 'good', 'good', 'good', 'bad', 'good', 'good',\n",
       "        'bad', 'good', 'good', 'good', 'good', 'good', 'good', 'good',\n",
       "        'good', 'good', 'good', 'good', 'good', 'good', 'good', 'good',\n",
       "        'good', 'good', 'good', 'good', 'good', 'good', 'good', 'bad',\n",
       "        'bad', 'good', 'good', 'good', 'good', 'bad', 'bad', 'good',\n",
       "        'good', 'good', 'bad', 'good', 'good', 'bad', 'good', 'good',\n",
       "        'good', 'good', 'good', 'bad', 'bad', 'bad', 'good', 'bad', 'good',\n",
       "        'good', 'bad', 'bad', 'good', 'good', 'bad', 'good', 'good',\n",
       "        'good', 'good', 'bad', 'good', 'good', 'bad', 'good', 'good',\n",
       "        'good', 'good', 'good', 'good', 'good', 'bad', 'good', 'good',\n",
       "        'good', 'bad', 'good', 'good', 'bad', 'bad', 'good', 'bad', 'good',\n",
       "        'bad', 'good', 'bad', 'good', 'bad', 'good', 'good', 'bad', 'good',\n",
       "        'good', 'good', 'good', 'bad', 'good', 'good', 'good', 'bad',\n",
       "        'good', 'good', 'good', 'good', 'bad', 'good', 'good', 'bad',\n",
       "        'good', 'good', 'good', 'good', 'bad', 'bad', 'bad', 'good',\n",
       "        'good', 'good', 'good', 'good', 'bad', 'good', 'good', 'good',\n",
       "        'good', 'good', 'good', 'good', 'good', 'bad', 'good', 'good',\n",
       "        'good', 'bad', 'good', 'good', 'bad', 'bad', 'bad', 'good', 'good',\n",
       "        'good', 'good', 'bad', 'good', 'good', 'bad', 'good', 'good',\n",
       "        'good', 'bad', 'bad', 'bad', 'good', 'good', 'bad', 'bad', 'good',\n",
       "        'bad', 'bad', 'good', 'good', 'good', 'good', 'bad', 'good', 'bad',\n",
       "        'good', 'good', 'good', 'bad', 'good', 'good', 'bad', 'bad',\n",
       "        'good', 'good', 'bad', 'good', 'good', 'good', 'good', 'bad',\n",
       "        'good', 'good', 'bad', 'bad', 'good', 'bad', 'good', 'good',\n",
       "        'good', 'good', 'good', 'good', 'good', 'good', 'good', 'good',\n",
       "        'good', 'good', 'good', 'bad', 'good', 'good', 'good', 'good',\n",
       "        'good', 'bad', 'bad', 'good', 'bad', 'good', 'good', 'good',\n",
       "        'good', 'good', 'good', 'good', 'good', 'good', 'good', 'good',\n",
       "        'bad', 'bad', 'good', 'good', 'good', 'good', 'good', 'good',\n",
       "        'good', 'good', 'good', 'good', 'bad', 'good', 'good', 'bad',\n",
       "        'bad', 'good', 'bad', 'bad', 'bad', 'good', 'good', 'bad', 'good',\n",
       "        'bad', 'bad', 'good', 'bad', 'good', 'good', 'good', 'bad', 'good',\n",
       "        'good', 'good', 'bad', 'bad', 'good', 'bad', 'good', 'good',\n",
       "        'good', 'good', 'good', 'good', 'good', 'bad', 'good', 'bad',\n",
       "        'bad', 'good', 'bad', 'bad', 'bad', 'good', 'good', 'good', 'good',\n",
       "        'bad', 'good', 'good', 'good', 'good', 'bad', 'good', 'good',\n",
       "        'bad', 'good', 'good', 'good', 'good', 'good', 'bad', 'bad',\n",
       "        'good', 'good', 'good', 'good', 'bad', 'bad', 'bad', 'bad', 'good',\n",
       "        'bad', 'good', 'good', 'good', 'good', 'good', 'good', 'good',\n",
       "        'good', 'good', 'good', 'good', 'good', 'good', 'good', 'bad',\n",
       "        'good'], dtype=object),\n",
       " 'frame': None,\n",
       " 'categories': {'checking_status': ['<0', '0<=X<200', '>=200', 'no checking'],\n",
       "  'credit_history': ['no credits/all paid',\n",
       "   'all paid',\n",
       "   'existing paid',\n",
       "   'delayed previously',\n",
       "   'critical/other existing credit'],\n",
       "  'purpose': ['new car',\n",
       "   'used car',\n",
       "   'furniture/equipment',\n",
       "   'radio/tv',\n",
       "   'domestic appliance',\n",
       "   'repairs',\n",
       "   'education',\n",
       "   'vacation',\n",
       "   'retraining',\n",
       "   'business',\n",
       "   'other'],\n",
       "  'savings_status': ['<100',\n",
       "   '100<=X<500',\n",
       "   '500<=X<1000',\n",
       "   '>=1000',\n",
       "   'no known savings'],\n",
       "  'employment': ['unemployed', '<1', '1<=X<4', '4<=X<7', '>=7'],\n",
       "  'personal_status': ['male div/sep',\n",
       "   'female div/dep/mar',\n",
       "   'male single',\n",
       "   'male mar/wid',\n",
       "   'female single'],\n",
       "  'other_parties': ['none', 'co applicant', 'guarantor'],\n",
       "  'property_magnitude': ['real estate',\n",
       "   'life insurance',\n",
       "   'car',\n",
       "   'no known property'],\n",
       "  'other_payment_plans': ['bank', 'stores', 'none'],\n",
       "  'housing': ['rent', 'own', 'for free'],\n",
       "  'job': ['unemp/unskilled non res',\n",
       "   'unskilled resident',\n",
       "   'skilled',\n",
       "   'high qualif/self emp/mgmt'],\n",
       "  'own_telephone': ['none', 'yes'],\n",
       "  'foreign_worker': ['yes', 'no']},\n",
       " 'feature_names': ['checking_status',\n",
       "  'duration',\n",
       "  'credit_history',\n",
       "  'purpose',\n",
       "  'credit_amount',\n",
       "  'savings_status',\n",
       "  'employment',\n",
       "  'installment_commitment',\n",
       "  'personal_status',\n",
       "  'other_parties',\n",
       "  'residence_since',\n",
       "  'property_magnitude',\n",
       "  'age',\n",
       "  'other_payment_plans',\n",
       "  'housing',\n",
       "  'existing_credits',\n",
       "  'job',\n",
       "  'num_dependents',\n",
       "  'own_telephone',\n",
       "  'foreign_worker'],\n",
       " 'target_names': ['class'],\n",
       " 'DESCR': '**Author**: Dr. Hans Hofmann  \\n**Source**: [UCI](https://archive.ics.uci.edu/ml/datasets/statlog+(german+credit+data)) - 1994    \\n**Please cite**: [UCI](https://archive.ics.uci.edu/ml/citation_policy.html)\\n\\n**German Credit dataset**  \\nThis dataset classifies people described by a set of attributes as good or bad credit risks.\\n\\nThis dataset comes with a cost matrix: \\n``` \\nGood  Bad (predicted)  \\nGood   0    1 (actual)  \\nBad    5    0  \\n```\\n\\nIt is worse to class a customer as good when they are bad (5), than it is to class a customer as bad when they are good (1).  \\n\\n### Attribute description  \\n\\n1. Status of existing checking account, in Deutsche Mark.  \\n2. Duration in months  \\n3. Credit history (credits taken, paid back duly, delays, critical accounts)  \\n4. Purpose of the credit (car, television,...)  \\n5. Credit amount  \\n6. Status of savings account/bonds, in Deutsche Mark.  \\n7. Present employment, in number of years.  \\n8. Installment rate in percentage of disposable income  \\n9. Personal status (married, single,...) and sex  \\n10. Other debtors / guarantors  \\n11. Present residence since X years  \\n12. Property (e.g. real estate)  \\n13. Age in years  \\n14. Other installment plans (banks, stores)  \\n15. Housing (rent, own,...)  \\n16. Number of existing credits at this bank  \\n17. Job  \\n18. Number of people being liable to provide maintenance for  \\n19. Telephone (yes,no)  \\n20. Foreign worker (yes,no)\\n\\nDownloaded from openml.org.',\n",
       " 'details': {'id': '31',\n",
       "  'name': 'credit-g',\n",
       "  'version': '1',\n",
       "  'description_version': '3',\n",
       "  'format': 'ARFF',\n",
       "  'creator': 'Dr. Hans Hofmann',\n",
       "  'collection_date': '1994-11-17',\n",
       "  'upload_date': '2014-04-06T23:21:47',\n",
       "  'language': 'English',\n",
       "  'licence': 'Public',\n",
       "  'url': 'https://www.openml.org/data/v1/download/31/credit-g.arff',\n",
       "  'file_id': '31',\n",
       "  'default_target_attribute': 'class',\n",
       "  'version_label': '1',\n",
       "  'citation': 'https://archive.ics.uci.edu/ml/citation_policy.html',\n",
       "  'tag': ['credit_scoring',\n",
       "   'finance_problem',\n",
       "   'mythbusting_1',\n",
       "   'OpenML-CC18',\n",
       "   'OpenML100',\n",
       "   'study_1',\n",
       "   'study_123',\n",
       "   'study_14',\n",
       "   'study_144',\n",
       "   'study_15',\n",
       "   'study_20',\n",
       "   'study_218',\n",
       "   'study_241',\n",
       "   'study_34',\n",
       "   'study_37',\n",
       "   'study_41',\n",
       "   'study_50',\n",
       "   'study_52',\n",
       "   'study_7',\n",
       "   'study_70',\n",
       "   'study_98',\n",
       "   'study_99',\n",
       "   'uci'],\n",
       "  'visibility': 'public',\n",
       "  'original_data_url': 'https://archive.ics.uci.edu/ml/datasets/statlog+(german+credit+data)',\n",
       "  'paper_url': 'https://dl.acm.org/doi/abs/10.1145/967900.968104',\n",
       "  'status': 'active',\n",
       "  'processing_date': '2020-11-20 19:44:53',\n",
       "  'md5_checksum': '9a475053fed0c26ee95cd4525e50074c'},\n",
       " 'url': 'https://www.openml.org/d/31'}"
      ]
     },
     "execution_count": 4,
     "metadata": {},
     "output_type": "execute_result"
    }
   ],
   "source": [
    "data"
   ]
  },
  {
   "cell_type": "markdown",
   "metadata": {},
   "source": [
    "Let's understand some of the data set features:"
   ]
  },
  {
   "cell_type": "code",
   "execution_count": 5,
   "metadata": {},
   "outputs": [
    {
     "name": "stdout",
     "output_type": "stream",
     "text": [
      "Dataset keys: dict_keys(['data', 'target', 'frame', 'categories', 'feature_names', 'target_names', 'DESCR', 'details', 'url'])\n",
      " \n",
      "Feature names: ['checking_status', 'duration', 'credit_history', 'purpose', 'credit_amount', 'savings_status', 'employment', 'installment_commitment', 'personal_status', 'other_parties', 'residence_since', 'property_magnitude', 'age', 'other_payment_plans', 'housing', 'existing_credits', 'job', 'num_dependents', 'own_telephone', 'foreign_worker']\n"
     ]
    }
   ],
   "source": [
    "features = data['feature_names']\n",
    "\n",
    "print(\"Dataset keys: {}\".format(data.keys()))\n",
    "print(\" \")\n",
    "print(\"Feature names: {}\".format(features))"
   ]
  },
  {
   "cell_type": "markdown",
   "metadata": {},
   "source": [
    "Will need to parse the data set into a pandas DataFrame, as well as assigning the correct data types, as the default for all features are objects."
   ]
  },
  {
   "cell_type": "code",
   "execution_count": 6,
   "metadata": {},
   "outputs": [],
   "source": [
    "# old function for converting to DataFrame\n",
    "# def sklearn_to_df(sklearn_dataset):\n",
    "#     df = pd.DataFrame(sklearn_dataset.data, columns=sklearn_dataset.feature_names)\n",
    "#     df['target'] = pd.Series(sklearn_dataset.target)\n",
    "#     return df"
   ]
  },
  {
   "cell_type": "code",
   "execution_count": 7,
   "metadata": {},
   "outputs": [],
   "source": [
    "def sklearn_to_df():\n",
    "    \n",
    "    dataset = fetch_openml('credit-g', version = 'active')\n",
    "\n",
    "    raws = [\n",
    "        np.take(dataset['categories'][feature], dataset['data'][:,i].astype(int))  # Take string value for categorical features\n",
    "        if feature in dataset['categories'] else dataset['data'][:,i]  # Else use the floats as is\n",
    "        for i, feature in enumerate(dataset['feature_names'])\n",
    "    ]\n",
    "\n",
    "    data = pd.DataFrame(np.stack(raws, axis=1), columns=dataset.feature_names)\n",
    "    data['class'] = pd.Series(dataset.target)\n",
    "    print(\"Initial dtypes:\")\n",
    "    print(data.dtypes)\n",
    "\n",
    "    dtypes = {\n",
    "        f: 'category' if f in dataset['categories'] else 'float'\n",
    "        for f in dataset['feature_names']\n",
    "    }\n",
    "    dtypes['class'] = 'category'\n",
    "    data = data.astype(dtypes)\n",
    "    print(\"\\nFirst cast:\")\n",
    "    print(data.dtypes)\n",
    "\n",
    "    int_cols = [1, 4, 12] # duration, credit_amount, age\n",
    "    data.iloc[:, int_cols] = data.iloc[:, int_cols].astype('int64')\n",
    "    print(\"\\nInt cast:\")\n",
    "    print(data.dtypes)\n",
    "    \n",
    "    return data"
   ]
  },
  {
   "cell_type": "code",
   "execution_count": 8,
   "metadata": {},
   "outputs": [
    {
     "name": "stdout",
     "output_type": "stream",
     "text": [
      "Initial dtypes:\n",
      "checking_status           object\n",
      "duration                  object\n",
      "credit_history            object\n",
      "purpose                   object\n",
      "credit_amount             object\n",
      "savings_status            object\n",
      "employment                object\n",
      "installment_commitment    object\n",
      "personal_status           object\n",
      "other_parties             object\n",
      "residence_since           object\n",
      "property_magnitude        object\n",
      "age                       object\n",
      "other_payment_plans       object\n",
      "housing                   object\n",
      "existing_credits          object\n",
      "job                       object\n",
      "num_dependents            object\n",
      "own_telephone             object\n",
      "foreign_worker            object\n",
      "class                     object\n",
      "dtype: object\n",
      "\n",
      "First cast:\n",
      "checking_status           category\n",
      "duration                   float64\n",
      "credit_history            category\n",
      "purpose                   category\n",
      "credit_amount              float64\n",
      "savings_status            category\n",
      "employment                category\n",
      "installment_commitment     float64\n",
      "personal_status           category\n",
      "other_parties             category\n",
      "residence_since            float64\n",
      "property_magnitude        category\n",
      "age                        float64\n",
      "other_payment_plans       category\n",
      "housing                   category\n",
      "existing_credits           float64\n",
      "job                       category\n",
      "num_dependents             float64\n",
      "own_telephone             category\n",
      "foreign_worker            category\n",
      "class                     category\n",
      "dtype: object\n",
      "\n",
      "Int cast:\n",
      "checking_status           category\n",
      "duration                     int64\n",
      "credit_history            category\n",
      "purpose                   category\n",
      "credit_amount                int64\n",
      "savings_status            category\n",
      "employment                category\n",
      "installment_commitment     float64\n",
      "personal_status           category\n",
      "other_parties             category\n",
      "residence_since            float64\n",
      "property_magnitude        category\n",
      "age                          int64\n",
      "other_payment_plans       category\n",
      "housing                   category\n",
      "existing_credits           float64\n",
      "job                       category\n",
      "num_dependents             float64\n",
      "own_telephone             category\n",
      "foreign_worker            category\n",
      "class                     category\n",
      "dtype: object\n"
     ]
    }
   ],
   "source": [
    "df = sklearn_to_df()"
   ]
  },
  {
   "cell_type": "code",
   "execution_count": 9,
   "metadata": {},
   "outputs": [
    {
     "data": {
      "text/html": [
       "<div>\n",
       "<style scoped>\n",
       "    .dataframe tbody tr th:only-of-type {\n",
       "        vertical-align: middle;\n",
       "    }\n",
       "\n",
       "    .dataframe tbody tr th {\n",
       "        vertical-align: top;\n",
       "    }\n",
       "\n",
       "    .dataframe thead th {\n",
       "        text-align: right;\n",
       "    }\n",
       "</style>\n",
       "<table border=\"1\" class=\"dataframe\">\n",
       "  <thead>\n",
       "    <tr style=\"text-align: right;\">\n",
       "      <th></th>\n",
       "      <th>checking_status</th>\n",
       "      <th>duration</th>\n",
       "      <th>credit_history</th>\n",
       "      <th>purpose</th>\n",
       "      <th>credit_amount</th>\n",
       "      <th>savings_status</th>\n",
       "      <th>employment</th>\n",
       "      <th>installment_commitment</th>\n",
       "      <th>personal_status</th>\n",
       "      <th>other_parties</th>\n",
       "      <th>...</th>\n",
       "      <th>property_magnitude</th>\n",
       "      <th>age</th>\n",
       "      <th>other_payment_plans</th>\n",
       "      <th>housing</th>\n",
       "      <th>existing_credits</th>\n",
       "      <th>job</th>\n",
       "      <th>num_dependents</th>\n",
       "      <th>own_telephone</th>\n",
       "      <th>foreign_worker</th>\n",
       "      <th>class</th>\n",
       "    </tr>\n",
       "  </thead>\n",
       "  <tbody>\n",
       "    <tr>\n",
       "      <th>0</th>\n",
       "      <td>&lt;0</td>\n",
       "      <td>6</td>\n",
       "      <td>critical/other existing credit</td>\n",
       "      <td>radio/tv</td>\n",
       "      <td>1169</td>\n",
       "      <td>no known savings</td>\n",
       "      <td>&gt;=7</td>\n",
       "      <td>4.0</td>\n",
       "      <td>male single</td>\n",
       "      <td>none</td>\n",
       "      <td>...</td>\n",
       "      <td>real estate</td>\n",
       "      <td>67</td>\n",
       "      <td>none</td>\n",
       "      <td>own</td>\n",
       "      <td>2.0</td>\n",
       "      <td>skilled</td>\n",
       "      <td>1.0</td>\n",
       "      <td>yes</td>\n",
       "      <td>yes</td>\n",
       "      <td>good</td>\n",
       "    </tr>\n",
       "    <tr>\n",
       "      <th>1</th>\n",
       "      <td>0&lt;=X&lt;200</td>\n",
       "      <td>48</td>\n",
       "      <td>existing paid</td>\n",
       "      <td>radio/tv</td>\n",
       "      <td>5951</td>\n",
       "      <td>&lt;100</td>\n",
       "      <td>1&lt;=X&lt;4</td>\n",
       "      <td>2.0</td>\n",
       "      <td>female div/dep/mar</td>\n",
       "      <td>none</td>\n",
       "      <td>...</td>\n",
       "      <td>real estate</td>\n",
       "      <td>22</td>\n",
       "      <td>none</td>\n",
       "      <td>own</td>\n",
       "      <td>1.0</td>\n",
       "      <td>skilled</td>\n",
       "      <td>1.0</td>\n",
       "      <td>none</td>\n",
       "      <td>yes</td>\n",
       "      <td>bad</td>\n",
       "    </tr>\n",
       "    <tr>\n",
       "      <th>2</th>\n",
       "      <td>no checking</td>\n",
       "      <td>12</td>\n",
       "      <td>critical/other existing credit</td>\n",
       "      <td>education</td>\n",
       "      <td>2096</td>\n",
       "      <td>&lt;100</td>\n",
       "      <td>4&lt;=X&lt;7</td>\n",
       "      <td>2.0</td>\n",
       "      <td>male single</td>\n",
       "      <td>none</td>\n",
       "      <td>...</td>\n",
       "      <td>real estate</td>\n",
       "      <td>49</td>\n",
       "      <td>none</td>\n",
       "      <td>own</td>\n",
       "      <td>1.0</td>\n",
       "      <td>unskilled resident</td>\n",
       "      <td>2.0</td>\n",
       "      <td>none</td>\n",
       "      <td>yes</td>\n",
       "      <td>good</td>\n",
       "    </tr>\n",
       "    <tr>\n",
       "      <th>3</th>\n",
       "      <td>&lt;0</td>\n",
       "      <td>42</td>\n",
       "      <td>existing paid</td>\n",
       "      <td>furniture/equipment</td>\n",
       "      <td>7882</td>\n",
       "      <td>&lt;100</td>\n",
       "      <td>4&lt;=X&lt;7</td>\n",
       "      <td>2.0</td>\n",
       "      <td>male single</td>\n",
       "      <td>guarantor</td>\n",
       "      <td>...</td>\n",
       "      <td>life insurance</td>\n",
       "      <td>45</td>\n",
       "      <td>none</td>\n",
       "      <td>for free</td>\n",
       "      <td>1.0</td>\n",
       "      <td>skilled</td>\n",
       "      <td>2.0</td>\n",
       "      <td>none</td>\n",
       "      <td>yes</td>\n",
       "      <td>good</td>\n",
       "    </tr>\n",
       "    <tr>\n",
       "      <th>4</th>\n",
       "      <td>&lt;0</td>\n",
       "      <td>24</td>\n",
       "      <td>delayed previously</td>\n",
       "      <td>new car</td>\n",
       "      <td>4870</td>\n",
       "      <td>&lt;100</td>\n",
       "      <td>1&lt;=X&lt;4</td>\n",
       "      <td>3.0</td>\n",
       "      <td>male single</td>\n",
       "      <td>none</td>\n",
       "      <td>...</td>\n",
       "      <td>no known property</td>\n",
       "      <td>53</td>\n",
       "      <td>none</td>\n",
       "      <td>for free</td>\n",
       "      <td>2.0</td>\n",
       "      <td>skilled</td>\n",
       "      <td>2.0</td>\n",
       "      <td>none</td>\n",
       "      <td>yes</td>\n",
       "      <td>bad</td>\n",
       "    </tr>\n",
       "  </tbody>\n",
       "</table>\n",
       "<p>5 rows × 21 columns</p>\n",
       "</div>"
      ],
      "text/plain": [
       "  checking_status  duration                  credit_history  \\\n",
       "0              <0         6  critical/other existing credit   \n",
       "1        0<=X<200        48                   existing paid   \n",
       "2     no checking        12  critical/other existing credit   \n",
       "3              <0        42                   existing paid   \n",
       "4              <0        24              delayed previously   \n",
       "\n",
       "               purpose  credit_amount    savings_status employment  \\\n",
       "0             radio/tv           1169  no known savings        >=7   \n",
       "1             radio/tv           5951              <100     1<=X<4   \n",
       "2            education           2096              <100     4<=X<7   \n",
       "3  furniture/equipment           7882              <100     4<=X<7   \n",
       "4              new car           4870              <100     1<=X<4   \n",
       "\n",
       "   installment_commitment     personal_status other_parties  ...  \\\n",
       "0                     4.0         male single          none  ...   \n",
       "1                     2.0  female div/dep/mar          none  ...   \n",
       "2                     2.0         male single          none  ...   \n",
       "3                     2.0         male single     guarantor  ...   \n",
       "4                     3.0         male single          none  ...   \n",
       "\n",
       "   property_magnitude age  other_payment_plans   housing existing_credits  \\\n",
       "0         real estate  67                 none       own              2.0   \n",
       "1         real estate  22                 none       own              1.0   \n",
       "2         real estate  49                 none       own              1.0   \n",
       "3      life insurance  45                 none  for free              1.0   \n",
       "4   no known property  53                 none  for free              2.0   \n",
       "\n",
       "                  job num_dependents  own_telephone foreign_worker class  \n",
       "0             skilled            1.0            yes            yes  good  \n",
       "1             skilled            1.0           none            yes   bad  \n",
       "2  unskilled resident            2.0           none            yes  good  \n",
       "3             skilled            2.0           none            yes  good  \n",
       "4             skilled            2.0           none            yes   bad  \n",
       "\n",
       "[5 rows x 21 columns]"
      ]
     },
     "execution_count": 9,
     "metadata": {},
     "output_type": "execute_result"
    }
   ],
   "source": [
    "df.head()"
   ]
  },
  {
   "cell_type": "markdown",
   "metadata": {},
   "source": [
    "### 1.1 Determine which features are continuous and which are categorical."
   ]
  },
  {
   "cell_type": "code",
   "execution_count": 10,
   "metadata": {},
   "outputs": [],
   "source": [
    "categorical = df.select_dtypes(include='category').columns.to_list()\n",
    "continuous = df.select_dtypes(exclude=['category', 'object']).columns.to_list()"
   ]
  },
  {
   "cell_type": "code",
   "execution_count": 11,
   "metadata": {},
   "outputs": [
    {
     "name": "stdout",
     "output_type": "stream",
     "text": [
      "Categorical features: ['checking_status', 'credit_history', 'purpose', 'savings_status', 'employment', 'personal_status', 'other_parties', 'property_magnitude', 'other_payment_plans', 'housing', 'job', 'own_telephone', 'foreign_worker', 'class']\n",
      " \n",
      "Continuous features: ['duration', 'credit_amount', 'installment_commitment', 'residence_since', 'age', 'existing_credits', 'num_dependents']\n"
     ]
    }
   ],
   "source": [
    "print(\"Categorical features: {}\".format(categorical))\n",
    "print(\" \")\n",
    "print(\"Continuous features: {}\".format(continuous))"
   ]
  },
  {
   "cell_type": "markdown",
   "metadata": {},
   "source": [
    "### 1.2 Visualize the univariate distribution of each continuous feature, and the distribution of the target."
   ]
  },
  {
   "cell_type": "code",
   "execution_count": 12,
   "metadata": {},
   "outputs": [
    {
     "data": {
      "image/png": "[encoded data removed]",
      "text/plain": [
       "<Figure size 2520x720 with 7 Axes>"
      ]
     },
     "metadata": {
      "needs_background": "light"
     },
     "output_type": "display_data"
    }
   ],
   "source": [
    "# plot continuous features\n",
    "fig, axes = plt.subplots(1, len(continuous), figsize=(35, 10))\n",
    "\n",
    "for i in range(len(continuous)):\n",
    "    axes[i].hist(df[continuous[i]], bins=\"auto\")\n",
    "    axes[i].set_xlabel(continuous[i], fontsize=16)\n",
    "    axes[i].set_ylabel(\"Frequency\", fontsize=16)\n",
    "\n",
    "fig.suptitle(\"Univariate Distribution of Continuous Features\", fontsize=36)\n",
    "plt.tight_layout()\n",
    "plt.show()"
   ]
  },
  {
   "cell_type": "code",
   "execution_count": 13,
   "metadata": {},
   "outputs": [
    {
     "data": {
      "image/png": "[encoded data removed]",
      "text/plain": [
       "<Figure size 432x288 with 1 Axes>"
      ]
     },
     "metadata": {
      "needs_background": "light"
     },
     "output_type": "display_data"
    }
   ],
   "source": [
    "# plot target variable\n",
    "plt.hist(df['class'])\n",
    "plt.xlabel(\"Target Value\")\n",
    "plt.ylabel(\"Frequency\")\n",
    "plt.title(\"Distribution of Target Variable\")\n",
    "plt.show()"
   ]
  },
  {
   "cell_type": "markdown",
   "metadata": {},
   "source": [
    "### 1.3 Split data into training and test set. Do not use the test set until a final evaluation in 1.5.Preprocess the data (such as treatment of categorical variables) without using a pipeline and evaluate an initial LogisticRegression model with an training/validation split.\n"
   ]
  },
  {
   "cell_type": "code",
   "execution_count": 14,
   "metadata": {},
   "outputs": [],
   "source": [
    "X = df[features]\n",
    "y = df['class']"
   ]
  },
  {
   "cell_type": "code",
   "execution_count": 26,
   "metadata": {},
   "outputs": [
    {
     "name": "stdout",
     "output_type": "stream",
     "text": [
      "Training set shape: (800, 20)\n",
      "Test set shape: (200, 20)\n",
      "Validation train set shape: (640, 20)\n",
      "Validation test set shape: (160, 20)\n"
     ]
    }
   ],
   "source": [
    "# create training split\n",
    "X_train, X_test, y_train, y_test = train_test_split(X, y, test_size=0.2, random_state=42)\n",
    "\n",
    "#create validation split\n",
    "#X_train, X_val, y_train, y_val = train_test_split(X_train, y_train, test_size=0.25, random_state=42) # 0.25 x 0.8 = 0.2\n",
    "X_train_val, X_val, y_train_val, y_val = train_test_split(X_train, y_train, test_size=0.2, random_state=42) # 0.25 x 0.8 = 0.2\n",
    "\n",
    "print('Training set shape: {}'.format(X_train.shape))\n",
    "print('Test set shape: {}'.format(X_test.shape))\n",
    "print('Validation train set shape: {}'.format(X_train_val.shape))\n",
    "print('Validation test set shape: {}'.format(X_val.shape))"
   ]
  },
  {
   "cell_type": "code",
   "execution_count": 16,
   "metadata": {},
   "outputs": [],
   "source": [
    "## test splits\n",
    "\n",
    "# X_train_val, X_test, y_train_val, y_test = train_test_split(X, y, test_size=0.20, random_state=42) #train set\n",
    "\n",
    "# X_train, X_val, y_train, y_val = train_test_split(X_train_val, y_train_val, test_size=0.20, random_state=42) #validation set\n",
    "\n",
    "# print(X_train_val.shape)\n",
    "# print(X_train.shape)"
   ]
  },
  {
   "cell_type": "markdown",
   "metadata": {},
   "source": [
    "Preprocess the data for categorical variables"
   ]
  },
  {
   "cell_type": "code",
   "execution_count": 17,
   "metadata": {},
   "outputs": [],
   "source": [
    "# OneHotEncoding\n",
    "ohe = OneHotEncoder(handle_unknown='ignore')\n",
    "\n",
    "ct = ColumnTransformer(\n",
    "    [('ohe1', OneHotEncoder(), categorical[:-1])] # remove class from the list\n",
    "    ,remainder='passthrough')\n",
    "\n",
    "ct.fit(X_train_val)\n",
    "\n",
    "X_train_preprocessed = ct.transform(X_train_val)\n",
    "X_val_preprocessed = ct.transform(X_val)"
   ]
  },
  {
   "cell_type": "code",
   "execution_count": 18,
   "metadata": {},
   "outputs": [
    {
     "data": {
      "text/plain": [
       "LogisticRegression()"
      ]
     },
     "execution_count": 18,
     "metadata": {},
     "output_type": "execute_result"
    }
   ],
   "source": [
    "lr = LogisticRegression()\n",
    "\n",
    "lr.fit(X_train_preprocessed, y_train_val)"
   ]
  },
  {
   "cell_type": "code",
   "execution_count": 19,
   "metadata": {},
   "outputs": [
    {
     "name": "stdout",
     "output_type": "stream",
     "text": [
      "Logistic Regression validation score: 0.7375\n"
     ]
    }
   ],
   "source": [
    "lr_score = lr.score(X_val_preprocessed, y_val)\n",
    "print('Logistic Regression validation score: {}'.format(lr_score))"
   ]
  },
  {
   "cell_type": "markdown",
   "metadata": {},
   "source": [
    "### 1.4 Use ColumnTransformer and pipeline to encode categorical variables (your choice of OneHotEncoder or another one from the categorical_encoder package, or both). Evaluate Logistic Regression, linear support vector machines and nearest neighbors using cross-validation. How different are the results? How does scaling the continuous features with StandardScaler influence the results?\n"
   ]
  },
  {
   "cell_type": "markdown",
   "metadata": {},
   "source": [
    "### Compare Logistic Regression, Linear Support Vector Machine & K Nearest Neighbours using Cross-Validation"
   ]
  },
  {
   "cell_type": "code",
   "execution_count": 20,
   "metadata": {},
   "outputs": [],
   "source": [
    "model_names = [\"LogisticRegression\", \"LinearSVC\", \"KNeighboursClassifier\"]\n",
    "model_list = [ LogisticRegression(), LinearSVC(), KNeighborsClassifier()]"
   ]
  },
  {
   "cell_type": "code",
   "execution_count": 21,
   "metadata": {},
   "outputs": [
    {
     "name": "stdout",
     "output_type": "stream",
     "text": [
      "LogisticRegression validation score: 0.7375\n",
      "LinearSVC validation score: 0.58375\n",
      "KNeighboursClassifier validation score: 0.6537499999999999\n"
     ]
    }
   ],
   "source": [
    "# use column transformer and pipeline\n",
    "\n",
    "preprocess = make_column_transformer((OneHotEncoder(handle_unknown=\"ignore\"), categorical[:-1]), remainder=\"passthrough\")\n",
    "\n",
    "scores = []\n",
    "for i in range(len(model_list)):\n",
    "    score = cross_val_score(make_pipeline(preprocess, model_list[i]), X_train, y_train, cv=5)\n",
    "    scores.append(np.mean(score))\n",
    "    \n",
    "for i in range(len(model_names)):\n",
    "    print(model_names[i] + ' validation score: ' + str(scores[i]))"
   ]
  },
  {
   "cell_type": "code",
   "execution_count": 22,
   "metadata": {},
   "outputs": [
    {
     "name": "stdout",
     "output_type": "stream",
     "text": [
      "LogisticRegression validation score: 0.745\n",
      "LinearSVC validation score: 0.74375\n",
      "KNeighboursClassifier validation score: 0.7324999999999999\n"
     ]
    }
   ],
   "source": [
    "# include standard scaler\n",
    "\n",
    "preprocess = make_column_transformer((OneHotEncoder(handle_unknown=\"ignore\"), categorical[:-1])\n",
    "                                     ,(StandardScaler(), continuous))\n",
    "\n",
    "scores = []\n",
    "for i in range(len(model_list)):\n",
    "    score = cross_val_score(make_pipeline(preprocess, model_list[i]), X_train, y_train, cv=5)\n",
    "    scores.append(np.mean(score))\n",
    "    \n",
    "for i in range(len(model_names)):\n",
    "    print(model_names[i] + ' validation score: ' + str(scores[i]))"
   ]
  },
  {
   "cell_type": "markdown",
   "metadata": {},
   "source": [
    "We can see that after scaling, there is a large increase in validation score for LinearSVC and KNN. KNN in particular relies on distances between data points in order to make accurate predictions."
   ]
  },
  {
   "cell_type": "markdown",
   "metadata": {},
   "source": [
    "### 1.5 Tune the parameters using GridSearchCV. Do the results improve? Evaluate only the be model on the test set. Visualize the performance as function of the parameters for all three models.\n"
   ]
  },
  {
   "cell_type": "code",
   "execution_count": 30,
   "metadata": {},
   "outputs": [
    {
     "name": "stdout",
     "output_type": "stream",
     "text": [
      "The best score:0.8\n",
      "The best method along with its parameter values is: {'classfier': LinearSVC(C=0.046415888336127795, random_state=42), 'classfier__C': 0.046415888336127795}\n"
     ]
    }
   ],
   "source": [
    "# tune parameters using GridSearchCV\n",
    "\n",
    "preprocess = make_column_transformer((OneHotEncoder(handle_unknown=\"ignore\"), categorical[:-1])\n",
    "                                     ,(StandardScaler(), continuous))\n",
    "\n",
    "pipe = Pipeline([('preprocess', preprocess),\n",
    "                 ('classfier', LogisticRegression())])\n",
    "\n",
    "param_grid = [{'classfier': [LogisticRegression(random_state=42)],\n",
    "               'classfier__C': np.logspace(-3, 2, 10)},\n",
    "              {'classfier': [LinearSVC(random_state=42)],\n",
    "               'classfier__C': np.logspace(-3, 2, 10)},\n",
    "              {'classfier': [KNeighborsClassifier()],\n",
    "               'classfier__n_neighbors': range(1,15,2)}\n",
    "             ]\n",
    "grid = GridSearchCV(pipe, param_grid)\n",
    "grid.fit(X_train, y_train)\n",
    "best_score = grid.score(X_test, y_test)\n",
    "\n",
    "print(\"The best score:\" + str(best_score))\n",
    "print(\"The best method along with its parameter values is: \" + str(grid.best_params_))"
   ]
  },
  {
   "cell_type": "code",
   "execution_count": 32,
   "metadata": {},
   "outputs": [],
   "source": [
    "plots = pd.DataFrame(grid.cv_results_)\n",
    "plots[\"LR\"]= [isinstance(plots[\"param_classfier\"][i],LogisticRegression) for i in range(plots.shape[0])]\n",
    "plots[\"SVM\"] = [isinstance(plots[\"param_classfier\"][i],LinearSVC) for i in range(plots.shape[0])]\n",
    "plots[\"KNN\"] = [isinstance(plots[\"param_classfier\"][i],KNeighborsClassifier) for i in range(plots.shape[0])]"
   ]
  },
  {
   "cell_type": "code",
   "execution_count": 38,
   "metadata": {},
   "outputs": [
    {
     "name": "stdout",
     "output_type": "stream",
     "text": [
      "The best score:0.795\n",
      "The best method along with its parameter values is: {'classfier': LogisticRegression(C=0.1668100537200059, random_state=42), 'classfier__C': 0.1668100537200059}\n"
     ]
    }
   ],
   "source": [
    "# change cross validation strategy to kfold with shuffling\n",
    "\n",
    "preprocess = make_column_transformer((OneHotEncoder(handle_unknown=\"ignore\"), categorical[:-1])\n",
    "                                     ,(StandardScaler(), continuous))\n",
    "\n",
    "pipe = Pipeline([('preprocess', preprocess),\n",
    "                 ('classfier', LogisticRegression())])\n",
    "\n",
    "param_grid = [{'classfier': [LogisticRegression(random_state=42)],\n",
    "               'classfier__C': np.logspace(-3, 2, 10)},\n",
    "              {'classfier': [LinearSVC(random_state=42)],\n",
    "               'classfier__C': np.logspace(-3, 2, 10)},\n",
    "              {'classfier': [KNeighborsClassifier()],\n",
    "               'classfier__n_neighbors': range(1,15,2)}\n",
    "             ]\n",
    "grid = GridSearchCV(pipe, param_grid, cv = KFold(shuffle=True, random_state=42))\n",
    "grid.fit(X_train, y_train)\n",
    "best_score = grid.score(X_test, y_test)\n",
    "\n",
    "print(\"The best score:\" + str(best_score))\n",
    "print(\"The best method along with its parameter values is: \" + str(grid.best_params_))"
   ]
  },
  {
   "cell_type": "markdown",
   "metadata": {},
   "source": [
    "### 1.6 Change the cross-validation strategy from ‘stratified k-fold’ to ‘kfold’ with shuffling. Do the parameters that are found change? Do they change if you change the random seed of the shuffling? Or if you change the random state of the split into training and test data?"
   ]
  },
  {
   "cell_type": "code",
   "execution_count": 40,
   "metadata": {},
   "outputs": [
    {
     "name": "stdout",
     "output_type": "stream",
     "text": [
      "The best score:0.73\n",
      "The best method along with its parameter values is: {'classfier': LogisticRegression(C=0.1668100537200059, random_state=42), 'classfier__C': 0.1668100537200059}\n"
     ]
    }
   ],
   "source": [
    "# change cross validation strategy to kfold with shuffling\n",
    "# change random state to 100\n",
    "\n",
    "X_train_val, X_test, y_train_val, y_test = train_test_split(X, y, test_size=0.20, random_state=83)\n",
    "\n",
    "preprocess = make_column_transformer((OneHotEncoder(handle_unknown=\"ignore\"), categorical[:-1])\n",
    "                                     ,(StandardScaler(), continuous))\n",
    "\n",
    "pipe = Pipeline([('preprocess', preprocess),\n",
    "                 ('classfier', LogisticRegression())])\n",
    "\n",
    "param_grid = [{'classfier': [LogisticRegression(random_state=42)],\n",
    "               'classfier__C': np.logspace(-3, 2, 10)},\n",
    "              {'classfier': [LinearSVC(random_state=42)],\n",
    "               'classfier__C': np.logspace(-3, 2, 10)},\n",
    "              {'classfier': [KNeighborsClassifier()],\n",
    "               'classfier__n_neighbors': range(1,15,2)}\n",
    "             ]\n",
    "grid = GridSearchCV(pipe, param_grid, cv = KFold(shuffle=True, random_state=42))\n",
    "grid.fit(X_train, y_train)\n",
    "best_score = grid.score(X_test, y_test)\n",
    "\n",
    "print(\"The best score:\" + str(best_score))\n",
    "print(\"The best method along with its parameter values is: \" + str(grid.best_params_))"
   ]
  },
  {
   "cell_type": "markdown",
   "metadata": {},
   "source": [
    "Changing the random state at the train test split level and KFold level affect the best score. In this case it is lower"
   ]
  },
  {
   "cell_type": "code",
   "execution_count": 42,
   "metadata": {},
   "outputs": [
    {
     "name": "stdout",
     "output_type": "stream",
     "text": [
      "The best score:0.75\n",
      "The best parameter values for Logistic Regression: {'classifier__C': 0.5994842503189409}\n"
     ]
    }
   ],
   "source": [
    "preprocess = make_column_transformer((OneHotEncoder(handle_unknown=\"ignore\"), categorical[:-1])\n",
    "                                     ,(StandardScaler(), continuous))\n",
    "\n",
    "pipe1 = Pipeline([('preprocess', preprocess),\n",
    "                 ('classifier', LogisticRegression(random_state=42))])\n",
    "\n",
    "param_grid = [{'classifier__C': np.logspace(-3, 2, 10)}]\n",
    "grid = GridSearchCV(pipe1, param_grid)\n",
    "grid.fit(X_train, y_train)\n",
    "best_score = grid.score(X_test, y_test)\n",
    "\n",
    "print(\"The best score:\" + str(best_score))\n",
    "print(\"The best parameter values for Logistic Regression: \" + str(grid.best_params_))"
   ]
  },
  {
   "cell_type": "code",
   "execution_count": null,
   "metadata": {},
   "outputs": [],
   "source": []
  }
 ],
 "metadata": {
  "kernelspec": {
   "display_name": "Python 3 (ipykernel)",
   "language": "python",
   "name": "python3"
  },
  "language_info": {
   "codemirror_mode": {
    "name": "ipython",
    "version": 3
   },
   "file_extension": ".py",
   "mimetype": "text/x-python",
   "name": "python",
   "nbconvert_exporter": "python",
   "pygments_lexer": "ipython3",
   "version": "3.9.7"
  }
 },
 "nbformat": 4,
 "nbformat_minor": 4
}
